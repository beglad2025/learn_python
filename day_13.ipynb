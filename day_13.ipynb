{
 "cells": [
  {
   "cell_type": "code",
   "execution_count": 1,
   "metadata": {},
   "outputs": [],
   "source": [
    "# 1. 음수가 아닌 수들이 주어졌을 때, 그 수들을 이어서 만들을 수 있는 가장 큰수"
   ]
  },
  {
   "cell_type": "code",
   "execution_count": 151,
   "metadata": {},
   "outputs": [],
   "source": [
    "def maxNum(list):\n",
    "    strList = []\n",
    "    for i in list:\n",
    "        strList.append(str(i))\n",
    "    strList.sort()\n",
    "    strList.reverse()\n",
    "    for j in range(1, len(strList)):\n",
    "        if len(strList[j-1]) >= 2 and \"0\" in strList[j-1] and int(strList[j-1][0]) == int(strList[j][0]):\n",
    "            x = strList[j-1]\n",
    "            strList[j-1] = strList[j]\n",
    "            strList[j] = x\n",
    "    print(''.join(strList))"
   ]
  },
  {
   "cell_type": "code",
   "execution_count": 154,
   "metadata": {},
   "outputs": [
    {
     "name": "stdout",
     "output_type": "stream",
     "text": [
      "9534330\n"
     ]
    }
   ],
   "source": [
    "list1 = [3, 30, 34, 5, 9]\n",
    "maxNum(list1)"
   ]
  },
  {
   "cell_type": "code",
   "execution_count": 153,
   "metadata": {},
   "outputs": [
    {
     "name": "stdout",
     "output_type": "stream",
     "text": [
      "321\n"
     ]
    }
   ],
   "source": [
    "list2 = [1, 2, 3]\n",
    "maxNum(list2)"
   ]
  },
  {
   "cell_type": "code",
   "execution_count": 12,
   "metadata": {},
   "outputs": [],
   "source": [
    "# 2. 화면에 4개의 직사각형이 차지하는 면적을 출력한다."
   ]
  },
  {
   "cell_type": "code",
   "execution_count": 40,
   "metadata": {},
   "outputs": [
    {
     "name": "stdout",
     "output_type": "stream",
     "text": [
      "1 2 4 4\n",
      "2 3 5 7\n",
      "3 1 6 5\n",
      "7 3 8 6\n"
     ]
    }
   ],
   "source": [
    "list=[]\n",
    "for i in range(1,5):\n",
    "    list.append(input().split())    "
   ]
  },
  {
   "cell_type": "code",
   "execution_count": 122,
   "metadata": {},
   "outputs": [
    {
     "name": "stdout",
     "output_type": "stream",
     "text": [
      "26\n"
     ]
    }
   ],
   "source": [
    "result = []\n",
    "for i in range(len(list)) :\n",
    "    for s in range(int(list[i][1]), int(list[i][3])):\n",
    "        for k in range(int(list[i][0]), int(int(list[i][2]))):\n",
    "            if not (str(k), str(s)) in result :\n",
    "                result.append((str(k), str(s)))\n",
    "            else :\n",
    "                continue\n",
    "print(len(result))"
   ]
  },
  {
   "cell_type": "code",
   "execution_count": 45,
   "metadata": {},
   "outputs": [],
   "source": [
    "# 3. 주어진 페이지에 출력된 질문의 '제목'부분을 모두 추출하여 출력하시오.\n",
    "# https://stackoverflow.com/questions/tagged/python"
   ]
  },
  {
   "cell_type": "code",
   "execution_count": 52,
   "metadata": {},
   "outputs": [],
   "source": [
    "from selenium import webdriver"
   ]
  },
  {
   "cell_type": "code",
   "execution_count": 53,
   "metadata": {},
   "outputs": [],
   "source": [
    "driver=webdriver.Chrome(\"c:/scrap/chromedriver.exe\")"
   ]
  },
  {
   "cell_type": "code",
   "execution_count": 54,
   "metadata": {},
   "outputs": [],
   "source": [
    "import time\n",
    "driver.get(\"https://stackoverflow.com/questions/tagged/python\")\n",
    "time.sleep(3)"
   ]
  },
  {
   "cell_type": "code",
   "execution_count": 55,
   "metadata": {},
   "outputs": [],
   "source": [
    "from bs4 import BeautifulSoup"
   ]
  },
  {
   "cell_type": "code",
   "execution_count": 75,
   "metadata": {},
   "outputs": [],
   "source": [
    "def quesionTitle(driver):\n",
    "    html = driver.page_source\n",
    "    soup = BeautifulSoup(html, \"html.parser\")\n",
    "    titles = soup.select(\"a.question-hyperlink\")\n",
    "    for i in range(len(titles)):\n",
    "        print(\"{0}번째 질문 :\".format(i+1), titles[i].text)"
   ]
  },
  {
   "cell_type": "code",
   "execution_count": 76,
   "metadata": {},
   "outputs": [
    {
     "name": "stdout",
     "output_type": "stream",
     "text": [
      "1번째 질문 : how do I put a {} inside a {} in a python formatted string?\n",
      "2번째 질문 : Working on K-means clustering on textual Data, want to Map the clusters with the Data\n",
      "3번째 질문 : Hit rest api's in different time interval\n",
      "4번째 질문 : Better (maybe more SQL-ish) way to populate pandas dataframe column from row and meta data than iterating over rows, please\n",
      "5번째 질문 : how to check if bucket already exists in AWS S3 in python\n",
      "6번째 질문 : How to make input 0 of layer sequential compatible?\n",
      "7번째 질문 : Problems with creating obejcts with CreateView Django\n",
      "8번째 질문 : Confused about PySerial with USB Full-speed half-duplex talking priority\n",
      "9번째 질문 : How to count the same (identical) titles in a row\n",
      "10번째 질문 : How to remove empty bars from catplot?\n",
      "11번째 질문 : NLTK corpora 'cmudict' not found whed used in AWS lambda function\n",
      "12번째 질문 : Reverse for 'chat_friend' with arguments '('',)' not found\n",
      "13번째 질문 : How do I make my python code into .app on macOS?\n",
      "14번째 질문 : How to convert a float numpy.ndarray to list?\n",
      "15번째 질문 : How to determine which logstash instance running with python and jinja\n",
      "16번째 질문 : \n",
      "                    Why are the edges of a broken glass almost opaque?\n",
      "                \n",
      "17번째 질문 : \n",
      "                    Landau logarithm\n",
      "                \n",
      "18번째 질문 : \n",
      "                    Were there any computers that did not support virtual memory?\n",
      "                \n",
      "19번째 질문 : \n",
      "                    How can a barren island state comprised of morons maintain positive GDP for decades?\n",
      "                \n",
      "20번째 질문 : \n",
      "                    The first published picture of the Mandelbrot set\n",
      "                \n",
      "21번째 질문 : \n",
      "                    Finding out whether an EPSG code is geographic or projected in Python\n",
      "                \n",
      "22번째 질문 : \n",
      "                    Replacing a random ith row and column from a matrix\n",
      "                \n",
      "23번째 질문 : \n",
      "                    Can I bring a single shot of live ammo onto the plane from US to UK as a souvenir?\n",
      "                \n",
      "24번째 질문 : \n",
      "                    Are there any stars that orbit perpendicular to the Milky Way's galactic plane?\n",
      "                \n",
      "25번째 질문 : \n",
      "                    Arbitrarily large finite irreducible matrix groups in odd dimension?\n",
      "                \n",
      "26번째 질문 : \n",
      "                    Mountain Biking And Clipless Pedals\n",
      "                \n",
      "27번째 질문 : \n",
      "                    How does one take advantage of unencrypted traffic?\n",
      "                \n",
      "28번째 질문 : \n",
      "                    Where is the location of this large stump and monument (lighthouse?) background?\n",
      "                \n",
      "29번째 질문 : \n",
      "                    What's the word for a vendor/retailer/wholesaler that sends products abroad\n",
      "                \n",
      "30번째 질문 : \n",
      "                    Can aileron differential eliminate adverse yaw?\n",
      "                \n",
      "31번째 질문 : \n",
      "                    Checkmate but confused why\n",
      "                \n",
      "32번째 질문 : \n",
      "                    PC ATX12VO (12V only) standard - Why does everybody say it has higher efficiency?\n",
      "                \n",
      "33번째 질문 : \n",
      "                    How large is Cthulhu?\n",
      "                \n",
      "34번째 질문 : \n",
      "                    Numerically stable way to compute sqrt((b²*c²) / (1-c²)) for c in [-1, 1]\n",
      "                \n",
      "35번째 질문 : \n",
      "                    Is it safe to use RAM with damaged capacitor?\n",
      "                \n",
      "36번째 질문 : \n",
      "                    Number of grid points outside a rook circuit\n",
      "                \n",
      "37번째 질문 : \n",
      "                    Using SculptCrete/ShapeCrete in a gel-like form?\n",
      "                \n",
      "38번째 질문 : \n",
      "                    Was the storming of the US Capitol orchestrated by the Left?\n",
      "                \n",
      "39번째 질문 : \n",
      "                    Spot a possible improvement when reviewing a paper\n",
      "                \n"
     ]
    }
   ],
   "source": [
    "quesionTitle(driver)"
   ]
  },
  {
   "cell_type": "code",
   "execution_count": 77,
   "metadata": {},
   "outputs": [],
   "source": [
    "# 4. 검색 포털 사이트 '네이버'에 있는 영화 댓글을 추출하시오.\n",
    "# https://movie.naver.com/movie/bi/mi/review.nhn?code=163834&page=1"
   ]
  },
  {
   "cell_type": "code",
   "execution_count": 78,
   "metadata": {},
   "outputs": [],
   "source": [
    "driver=webdriver.Chrome(\"c:/scrap/chromedriver.exe\")"
   ]
  },
  {
   "cell_type": "code",
   "execution_count": 79,
   "metadata": {},
   "outputs": [],
   "source": [
    "import time\n",
    "driver.get(\"https://movie.naver.com/movie/bi/mi/review.nhn?code=163834&page=1\")\n",
    "time.sleep(3)"
   ]
  },
  {
   "cell_type": "code",
   "execution_count": 90,
   "metadata": {},
   "outputs": [],
   "source": [
    "def quesionTitle(driver):\n",
    "    html = driver.page_source\n",
    "    soup = BeautifulSoup(html, \"html.parser\")\n",
    "    reviews = soup.select(\"ul.rvw_list_area > li\")\n",
    "    for review in reviews:\n",
    "        print(review.select(\"p\")[0].text)\n",
    "        print()"
   ]
  },
  {
   "cell_type": "code",
   "execution_count": 91,
   "metadata": {},
   "outputs": [
    {
     "name": "stdout",
     "output_type": "stream",
     "text": [
      "        원더 우먼 1984      감독   패티 젠킨스   출연   갤 가돗, 크리스틴 위그, 페드로 파스칼, 크리스 파인   개봉   2020.12.23. 미국   평점                         리뷰보기      <저의 리뷰는 관점에 따라 약간의 스포일러...\n",
      "\n",
      " 원더 따로 우먼 따로그렇다고 해서따로국밥의 묘미도 없다알아서 말아먹는 재미라도 있어야 할 텐데이미 다 말려서 나온다얹어 먹을 깍두기도 없는데치명적인 건 그게 아니다한 숟갈 뜨자마자 짜게 식어 버린다.고대 언어는 장식에 불과...\n",
      "\n",
      "        원더 우먼 1984      감독   패티 젠킨스   출연   갤 가돗, 크리스틴 위그, 페드로 파스칼, 크리스 파인   개봉   2020.12.23. 미국   평점                         리뷰보기            Wonder Woman, 본명은 데미스키라의 공...\n",
      "\n",
      "20201225의정부태흥 CGV 9-H-9헌혈 예매권3/5 세상이 기다린 히어로, 희망이 되다!1984년 모든 것이 활기찬 시대, 다이애나 프린스는 고고학자로서 인간들 사이에서 조용히 살고 있다. 단지 원더 우먼으로서 위기에 처한 사람을 구할 때만...\n",
      "\n",
      "‘원더우먼 2’ 촬영 종료... 갤 가돗 “2020년에 봐요”[할리웃톡] 입력 2018-12-24 12:43 / 수정 2018-12-24 12:43[스포츠서울 조효정 인턴기자]할리우드 배우 갤 가돗이 영화 '원더우먼 1984'의 촬영 종료를 알렸다.23일(현지시간) 갤 ...\n",
      "\n",
      "내년 여름 개봉 예정인 <원더우먼 1984>와 관련해 내가 지금 걱정하는 것 한가지작년말 <PMC: 더 벙커>의 마지막 장면 하정우 대사\"고맙다! 북한!\"을 들었을 때부터 확신중인데 새 정부들어선 이후 아예 북한 팬카페를 하나 ...\n",
      "\n",
      "현재 내 예상은 만약 정부가 사회적 거리두기 3단계결정을 내릴 경우 이번 주말까지 사전 준비(3단계적용 시 발생될 사회 불안을 지원할 준비작업 진행)를 하고 빠르면 금요일(12/18) 오후에서 늦어도일요일(12/20) 오후 사이에(일요일 오...\n",
      "\n",
      "        원더 우먼 1984      감독   패티 젠킨스   출연   갤 가돗, 크리스 파인, 크리스틴 위그, 페드로 파스칼   개봉   2020.12.23. 미국   평점                         리뷰보기            원더우먼 시리즈의 두 번째 영화. 전작...\n",
      "\n",
      "2020.12.25.크리스마스평소 계획적으로 행동하지 않아서 이렇게 영화 원더우먼을 보게 될 줄을 몰랐어요~2017년 개봉했던 원더우먼도 보지 않은 상태이고 관심도 없어서 잘 몰랐었는데요.남자친구와 크리스마스 당일 날,이른 저녁식사를 ...\n",
      "\n",
      "원더우먼 1984 다시 돌아온 원더우먼!원더우먼 1984 입니다. 배경이 80년대 입니다. 배경은 정말로 80년대 미국거리를 연상시킵니다.새로운 악당인 치타와 맥스월입니다.맥스월은 보는 내내 트럼프가 연상되더군요. 후훗.배우는 페드로 파...\n",
      "\n"
     ]
    }
   ],
   "source": [
    "quesionTitle(driver)"
   ]
  },
  {
   "cell_type": "code",
   "execution_count": 92,
   "metadata": {},
   "outputs": [],
   "source": [
    "# 4-1 추가 문제 : 하면 여러 페이지 추출도 ok"
   ]
  },
  {
   "cell_type": "code",
   "execution_count": 96,
   "metadata": {},
   "outputs": [
    {
     "name": "stdout",
     "output_type": "stream",
     "text": [
      "        원더 우먼 1984      감독   패티 젠킨스   출연   갤 가돗, 크리스틴 위그, 페드로 파스칼, 크리스 파인   개봉   2020.12.23. 미국   평점                         리뷰보기      <저의 리뷰는 관점에 따라 약간의 스포일러...\n",
      "\n",
      " 원더 따로 우먼 따로그렇다고 해서따로국밥의 묘미도 없다알아서 말아먹는 재미라도 있어야 할 텐데이미 다 말려서 나온다얹어 먹을 깍두기도 없는데치명적인 건 그게 아니다한 숟갈 뜨자마자 짜게 식어 버린다.고대 언어는 장식에 불과...\n",
      "\n",
      "        원더 우먼 1984      감독   패티 젠킨스   출연   갤 가돗, 크리스틴 위그, 페드로 파스칼, 크리스 파인   개봉   2020.12.23. 미국   평점                         리뷰보기            Wonder Woman, 본명은 데미스키라의 공...\n",
      "\n",
      "20201225의정부태흥 CGV 9-H-9헌혈 예매권3/5 세상이 기다린 히어로, 희망이 되다!1984년 모든 것이 활기찬 시대, 다이애나 프린스는 고고학자로서 인간들 사이에서 조용히 살고 있다. 단지 원더 우먼으로서 위기에 처한 사람을 구할 때만...\n",
      "\n",
      "‘원더우먼 2’ 촬영 종료... 갤 가돗 “2020년에 봐요”[할리웃톡] 입력 2018-12-24 12:43 / 수정 2018-12-24 12:43[스포츠서울 조효정 인턴기자]할리우드 배우 갤 가돗이 영화 '원더우먼 1984'의 촬영 종료를 알렸다.23일(현지시간) 갤 ...\n",
      "\n",
      "내년 여름 개봉 예정인 <원더우먼 1984>와 관련해 내가 지금 걱정하는 것 한가지작년말 <PMC: 더 벙커>의 마지막 장면 하정우 대사\"고맙다! 북한!\"을 들었을 때부터 확신중인데 새 정부들어선 이후 아예 북한 팬카페를 하나 ...\n",
      "\n",
      "현재 내 예상은 만약 정부가 사회적 거리두기 3단계결정을 내릴 경우 이번 주말까지 사전 준비(3단계적용 시 발생될 사회 불안을 지원할 준비작업 진행)를 하고 빠르면 금요일(12/18) 오후에서 늦어도일요일(12/20) 오후 사이에(일요일 오...\n",
      "\n",
      "        원더 우먼 1984      감독   패티 젠킨스   출연   갤 가돗, 크리스 파인, 크리스틴 위그, 페드로 파스칼   개봉   2020.12.23. 미국   평점                         리뷰보기            원더우먼 시리즈의 두 번째 영화. 전작...\n",
      "\n",
      "2020.12.25.크리스마스평소 계획적으로 행동하지 않아서 이렇게 영화 원더우먼을 보게 될 줄을 몰랐어요~2017년 개봉했던 원더우먼도 보지 않은 상태이고 관심도 없어서 잘 몰랐었는데요.남자친구와 크리스마스 당일 날,이른 저녁식사를 ...\n",
      "\n",
      "원더우먼 1984 다시 돌아온 원더우먼!원더우먼 1984 입니다. 배경이 80년대 입니다. 배경은 정말로 80년대 미국거리를 연상시킵니다.새로운 악당인 치타와 맥스월입니다.맥스월은 보는 내내 트럼프가 연상되더군요. 후훗.배우는 페드로 파...\n",
      "\n",
      "12월 23일 개봉하는 영화 '원더우먼 1984'입니다.'코로나'때매 대부분의 '블록버스터'들이 2021년으로 연기된 가운데유일하게 올해 개봉하는 '히어로물'이 아닌가 싶은데요..'원더우먼 1984'는 2017년에 개봉했었던 '원더우먼'의 후속편인...\n",
      "\n",
      "일본에서 선개봉한 #DC영화 #원더우먼1984 보고왔습니다.#스포없는후기 로는#쿠키영상 1개 있음 (저는 저어어어엉말 좋앗음 ㅎㅎ)노래 (#OST )가 역시 좋았음.#액션 도 맘에 들음.세계 여기저기 나오는 게 좋았음. ( #1984년 이라는 설정...\n",
      "\n",
      "        원더 우먼 1984      감독   패티 젠킨스   출연   갤 가돗, 크리스틴 위그, 페드로 파스칼, 크리스 파인   개봉   2020.12.23. 미국   평점                         리뷰보기       알고보자!원더우먼 1984는 엔딩크레딧이 오르...\n",
      "\n",
      "        원더 우먼 1984      감독   패티 젠킨스   출연   갤 가돗, 크리스 파인, 크리스틴 위그, 페드로 파스칼   개봉   2020.12.23. 미국   평점                         리뷰보기      황수정소원 하나를 들어준다.소원이 소원을 낳...\n",
      "\n",
      "        원더 우먼 1984      감독   패티 젠킨스   출연   갤 가돗, 크리스틴 위그, 페드로 파스칼, 크리스 파인   개봉   2020.12.23. 미국   평점                         리뷰보기        7.8  이런 시국에 개봉된 영화도 영화지만, ...\n",
      "\n",
      "        원더 우먼 1984      감독   패티 젠킨스   출연   갤 가돗, 크리스 파인, 크리스틴 위그, 페드로 파스칼   개봉   2020.12.23. 미국   평점                         리뷰보기      1984년을 배경으로한 원더우먼의 새로운 능력...\n",
      "\n",
      "오랫동안 기다려왔던 블록버스터 <원더 우먼(Wonder Woman)1984>를 용아맥 아이맥스 대화면으로 드디어 감상하게 됐다. 예고편을 지난 9월 CGV 용산아이파크몰 아이맥스관에서 <테넷> 상영 직전 처음 접하게 된 후부터 영화 ...\n",
      "\n",
      "        원더 우먼 1984      감독   패티 젠킨스   출연   갤 가돗, 크리스틴 위그, 페드로 파스칼, 크리스 파인   개봉   2020.12.23. 미국   평점                         리뷰보기         개봉 첫날 조조로 갔지만 딱 반절정도 보고...\n",
      "\n",
      "        원더 우먼 1984      감독   패티 젠킨스   출연   갤 가돗, 크리스 파인, 크리스틴 위그, 페드로 파스칼   개봉   2020.12.23. 미국   평점                         리뷰보기       전작이 재미있었다. 이번에는 약간 더 동화스...\n",
      "\n",
      "        원더 우먼 1984      감독   패티 젠킨스   출연   갤 가돗, 크리스틴 위그, 페드로 파스칼, 크리스 파인   개봉   2020.12.23. 미국   평점                         리뷰보기        스크린 엑스 분량이 괜찮다길래 4DX와 접목...\n",
      "\n",
      "안녕하세요, 박군입니다. 오늘은 드디어 개봉한 그 영화 <원더 우먼>입니다. 많은 사람들에게 기대를 안겨주었던 그 영화입니다. 1편은 솔직히 정말 잘 나왔고, DC히어로 영화에 한 획을 그은 영화이기도 해서 그런데... 개봉하고나...\n",
      "\n",
      "[영화 원더우먼1984] 사랑에 빠진 다이애나와 착한 빌런마블에 비하면 열세를 면치 못하는 DC의 영화 산업에 잠깐 단비와 같은 역할을 해준 원더우먼이 1984년을 배경으로 돌아왔다.슈퍼맨과 배트맨이 엄마 이름을 두고 다툴 때 어른스러...\n",
      "\n",
      "        원더 우먼 1984      감독   패티 젠킨스   출연   갤 가돗, 크리스 파인, 크리스틴 위그, 페드로 파스칼   개봉   2020.12.23. 미국   평점                         리뷰보기      워매우째쓰까나....그나마 DC에서 젤 잘나가는...\n",
      "\n",
      "        원더 우먼 1984      감독   패티 젠킨스   출연   갤 가돗, 크리스 파인, 크리스틴 위그, 페드로 파스칼   개봉   2020.12.23. 미국   평점                         리뷰보기        12/26/2020 어서와 자동차 극장은 처음이지?...\n",
      "\n",
      "           원더 우먼 1984      감독   패티 젠킨스   출연   갤 가돗, 크리스틴 위그, 페드로 파스칼, 크리스 파인   개봉   2020.12.23. 미국   평점                             리뷰보기          평점은 정말 정말 후하게 주면 이 ...\n",
      "\n",
      "        원더 우먼 1984      감독   패티 젠킨스   출연   갤 가돗, 크리스 파인, 크리스틴 위그, 페드로 파스칼   개봉   2020.12.23. 미국   평점                         리뷰보기       정말정말 오랜만에 영화관 가서 볼만한 영화...\n",
      "\n",
      "        원더 우먼 1984      감독   패티 젠킨스   출연   갤 가돗, 크리스 파인, 크리스틴 위그, 페드로 파스칼   개봉   2020.12.23. 미국   평점                         리뷰보기      여기저기서 쏟아지는 혹평과는 달리 슈퍼 히어...\n",
      "\n",
      "             원더 우먼 1984      감독   패티 젠킨스   출연   갤 가돗, 크리스 파인, 크리스틴 위그, 페드로 파스칼   개봉   2020.12.23. 미국   평점                         리뷰보기          이번 영화에서는 DC 코믹스 답게 무...\n",
      "\n",
      "           원더 우먼 1984      감독   패티 젠킨스   출연   갤 가돗, 크리스 파인, 크리스틴 위그, 페드로 파스칼   개봉   2020.12.23. 미국   평점                             리뷰보기                 DC의 구세주는 원더우먼일...\n",
      "\n",
      "        원더 우먼 1984      감독   패티 젠킨스   출연   갤 가돗, 크리스 파인, 크리스틴 위그, 페드로 파스칼   개봉   2020.12.23. 미국   평점                         리뷰보기        원더우먼 1984를 본 소감은 한마디로 \"시간...\n",
      "\n",
      "          원더 우먼 1984      감독   패티 젠킨스   출연   갤 가돗, 크리스 파인, 크리스틴 위그, 페드로 파스칼   개봉   2020.12.23. 미국   평점                         리뷰보기       <!--[endif]-->  올 겨울 개봉하는 D...\n",
      "\n",
      "           원더 우먼 1984      감독   패티 젠킨스   출연   갤 가돗, 크리스 파인, 크리스틴 위그, 페드로 파스칼   개봉   2020.12.23. 미국   평점                             리뷰보기         않이 어떻게 전편보다 더 심한걸 내...\n",
      "\n",
      "        원더 우먼 1984      감독   패티 젠킨스   출연   갤 가돗, 크리스 파인, 크리스틴 위그, 페드로 파스칼   개봉   2020.12.23. 미국   평점                         리뷰보기      코로나로 기대했던 영화의 개봉이 연기되어섭...\n",
      "\n",
      "        원더 우먼 1984      감독   패티 젠킨스   출연   갤 가돗, 크리스 파인, 크리스틴 위그, 페드로 파스칼   개봉   2020.12.23. 미국   평점                         리뷰보기       배트맨과 조커가 살려 놓은 DC를다시 수렁에 ...\n",
      "\n",
      "         원더 우먼 1984      감독   패티 젠킨스   출연   갤 가돗, 크리스 파인, 크리스틴 위그, 페드로 파스칼   개봉   2020.12.23. 미국   평점                         리뷰보기      기억에 남는 대사 : \"아스테리아! 정말 아름...\n",
      "\n",
      "원더 우먼 2, 원더우먼 속편의 개봉일과 케스팅, 줄거리와 배경.  <원더우먼 1>http://blog.naver.com/PostThumbnailView.nhn?blogId=ho-soo&logNo=221023637616&categoryNo=10&parentCategoryNo=&from=postList\u0004...\n",
      "\n",
      "      <원더 우먼>(2017)의 시퀄 <원더 우먼 1984>의 개봉이 연기되었다는 소식입니다.     당초 올해 12월 크랭크업(※촬영 종료)한 후, 2019년 11월 1일 개봉 예정이었던 <원더 우먼 1984>의 개봉일이 2020년 6월 5일...\n",
      "\n",
      "나의 갤 가돗 팬 스토리 - 12[갤 가돗의 팬들에게 앞으로 다가올 신작 선물들]  아래 글들로부터 이어짐https://blog.naver.com/kongming1973/221447669948나의 갤 가돗 팬 스토리...\n",
      "\n",
      "<원더우먼 1984> 예고편을 보고 - 1(패티 젠킨스 감독의 속편 연출 결정 소식을 처음 접했을 때 내가 가졌던 생각과 지금의 느낌)헐리웃에서 보기 드문 여성 감독인패티 젠킨스(1971년생으로 만 48세). 2004년 샤를리즈 테론의 아카...\n",
      "\n",
      "영화 <원더우먼>에서 다이애나 프린스(원더우먼:갤 가돗)의 연인 스티브 트레버역 크리스 파인이 생각하는 갤 가돗은?2017년 영화 <원더우먼>이 크게 성공하자 영화속다이애나 프린스와 스티브 트레버를 너무 아름다운커플이...\n",
      "\n",
      "2020년 개봉영화 기대작 월별 정리(2020년 개봉예정영화)영화 보는 걸 워낙 좋아해서1년에 보는 작품 수가 평균 150편이 넘는 나.매년 이맘 때쯤이면 후년에 개봉하는개봉예정영화 기대작들을 정리하는시간을 갖곤 했는데, 올해도 어김없...\n",
      "\n",
      "<원더우먼 1984> 예고편을 보고 - 2(스티브 트레버의 부활?)이미 2018년 촬영 현장을 통해 팬들에게 알려진 것과 같이 <원더우먼 1984>엔 1918년 제1차 세계대전을 배경으로 했던 <원더우먼>에서 전사한다이애나 프린스...\n",
      "\n",
      "원더우먼 갤 가돗의 지고지순한 사랑: 영화속 다이애나로서도 현실에서도 똑같이 아름다운 사랑중인 여신제우스신과 히폴리타 여왕 사이에서 태어난반신반인 다이애나 프린스(원더우먼).데미스키라 섬을 떠나 1918년 1차 세계 대전 때처음...\n",
      "\n",
      "영국에서 나오는 엠파이어 영화잡지에 원더우먼 1984 포스터 표지 2개가 공개되었습니다 내용은 똑같지만 표지만 다른 것이죠 그나저나 이 영화 역시 개봉이 올해 8월달로 미루어졌습니다 그나마 다행인 것이 2021년이 아닌 2020년 올해 ...\n",
      "\n",
      "2018년 12월에 촬영 종료하여 2019년 12월 13일개봉 예정이었던 갤 가돗 주연, 패티 젠킨스 감독의<원더우먼 1984>. 그러나 미국의 국민 영화 <스타워즈: 라이즈 오브스카이워커>가 2019년 5월에서 12월 20일로개봉일 연기를 ...\n",
      "\n",
      "[스포있는 <원더우먼 1984> 리뷰 - 3] 원더우먼의 피부가 방탄이냐 논란에 대한 견해*.스포 리뷰이므로 스포를 원하시지 않는 분께선  뒤로 가기 버튼을 눌러주시기를 권합니다.이번 영화에선 드림 스톤(황수정)의 특성상 다이애나...\n",
      "\n",
      "올 해 대작 영화들 코로나 직격탄 맞은 상황버즈 오브 프레이(DC):예정대로 2월 개봉했다가 폭망뮬란(디즈니): 3월에서 무기한 연기콰이어트플레이스 2:3월에서 무기한 연기007 노타임 투 다이:4월초에서 11월로 연기블랙 위도우(마블):4...\n",
      "\n",
      "갤 가돗의 전속 사진가인 vanzekin018이 자신의인스타그램에 올린 내용.<원더우먼 1984>의 개봉일이 84일 남았음을 알렸던세계 각국의 여러 사이트들 중 오늘 두군데만 남기곤카운트다운 표시를 지웠다고 함.아직 정식 발표는 안 났...\n",
      "\n",
      "올 해 상반기 개봉 예정 기대작들 리스트와 현황2월초: 버즈 오브 프레이(예정대로 개봉했다가 폭망)3월: 뮬란 (코로나로 인해 개봉 연기, 개봉 시점 미정)3월: 콰이어트 플레이스 2(코로나로 인해 개봉 연기, 개봉 시점 미정,일부 코로나...\n",
      "\n",
      "한국에서만 오해 때문에 저평가된 이 시대 최고의 스타 갤 가돗: 2020년엔 <원더우먼 1984>로 한국에서도 최고가 되는 한 해를 기대하며원더우먼이라는 캐릭터가 가지는 그 자체의 엄청난상징성과 당대 최고의 여신이 아니면 될 수 ...\n",
      "\n",
      "[갤 가돗과 패티 젠킨스가 쓴 영원불멸의 두가지 업적]아줌마 전성시대를 연 두 사람.그리고 '아줌마'란 말이 '아가씨'란 말에 비해 가지는선입견에 대해 완전히 다시 생각하도록 만들어 놓은갓 가돗(God Gadot: Gal Gadot의 높임말).*.가...\n",
      "\n",
      "SCREENRANT에 5시간 전 올려진 글 내용 중에서.코로나 사태로 개봉일(6월 5일) 연기가 필요해진<원더우먼 1984>에게 그래도 좋은 점은 올 해최고의 큰 영화라서 어느 날로 개봉일을 연기해도다른 영화들 눈치를 볼 필요가 없다는 점...\n",
      "\n",
      "워너브라더스는 <원더우먼 1984>가 코로나 사태로인해 극장 개봉을 포기한 채 바로 스트리밍 서비스를갈 것이란 The Wrap의 기사를 부인했다.코로나 때문에 이젠 별의 별 미국 기레기의 헛소리뻘짓 글들까지 다 올라오고 있는 중.아...\n",
      "\n",
      "지난 12/29(일). CGV에서 12월 초 브라질 상파울루에서열렸던 CCXP19에서 세계 최고 스타 갤 가돗을직접 만나고 워너브라더스에서 초청한 소중한게스트라며 라운드 테이블 인터뷰와 다정한 기념사진 촬영, 행사 전체를 통털어 최고 하이라...\n",
      "\n",
      "THIS MONTH'S FILM MOMENTS THAT MATTER[EDITED BY JOHN NUGENT]No.1Wonder Woman swings into the '80s(1980년대로 돌입한 원더우먼)Director PATTY JENKINS on setting Diana Prince loose in the era of excess(과잉의 시대에 다이애나...\n",
      "\n",
      "Forbes의 스캇 멘델슨이 쓴 글<원더우먼 1984>가 개봉일을 작년 12월, 11월이야기하다가 올 해 6월로 연기했던 건 <스타워즈:라이즈 오브 스카이워커> 개봉이 작년 5월에서12월로 연기되어 <겨울왕국 2>등 두 편의 대작...\n",
      "\n",
      "코로나로 현재 문을 닫은 미국의 극장들이 올 여름끝에서 가을 초까지 다시 오픈하지 않을 거라고 함.패티 젠킨스 감독은 지난 며칠간 <원더우먼 1984>마케팅 포스터를 만들어졌다고 밝혔으나 이런상황이라면 워너브라더스가 하루 ...\n",
      "\n",
      "코로나 사태로 인해 트럼프 대통령이 50인 이상 모임금지를 지시한 8주의 기간이 끝나는 건 5월 10일이고실제론 그 이후에도 아래 예상과 같이 현재 일제히문을 닫은 미국 전역의 극장들이 올 여름이 끝날 때까지( ~8월말) 혹은 가을 초까...\n",
      "\n",
      "아직 개봉일 연기 발표를 하지 않은 워너브라더스의<원더우먼 1984>.코로나만 아니었으면 개봉일로 잡았던 6월 5일이좋은 시기였고 이미 두 번의 개봉일 변경이 있었기에워너브라더스에선 아직 <원더우먼 1984> 개봉일연기 발...\n",
      "\n",
      "7월 예정인 올림픽도 연기해야 한다는 의견들이 많고지금 세계 상황이 아래와 같으며 미국 확진자 증가추이가 장난이 아닌데...이게 지금 앞으로 두달안에 잡힐 거라고 보이나?워너브라더스가 끝까지 미련을 가지고 <원더우먼1984> ...\n",
      "\n"
     ]
    },
    {
     "name": "stdout",
     "output_type": "stream",
     "text": [
      "[코로나 사태에도 예정대로 개봉하는 <원더우먼1984>: 이젠 그야말로 필사적(?)인 기도가 필요해진상황]원래 개봉 예정일 대비 100일 정도 남았을 때까진카운트 다운을 하다가 코로나 사태가 하도 말이아니기에 한숨만 푹푹 쉬며 앞...\n",
      "\n",
      "대한민국이 갤 가돗을 비롯한 <원더우먼 1984> 팀,DCEU 관계자들, 워너브라더스 사람들에게 있어서올 해 5월 <원더우먼 1984> 월드 홍보 투어 때방문 국가로 선정될만한 상황이 되는지에 대해좀 더 힘이 실릴만한 객관적 팩트...\n",
      "\n",
      "<원더우먼 1984>에 대해 갤 가돗의 팬들과 공유하는 11가지 이야기들 (관람 포인트와 흥행 예상, 첫 방한 가능성까지) 1. 패티 젠킨스 감독의 속편 연출 결정 소식을     처음 접했을 때 내가 가졌던 생각과 지금의 느낌헐리웃에서 ...\n",
      "\n",
      "[DCEU와 워너브라더스는 올 여름 <원더우먼 1984>흥행 수입을 어느 정도까지 기대하고 있을까?]3년 전 <원더우먼> 1편의 미국 내 총 흥행 수입4억 1천만불은 사실 미국 내 수입만으로 따졌을 때그보다 더 선전하길 바라기 어...\n",
      "\n",
      "<원더우먼 1984>: 요새 한국 극장가 분위기가 하도 괴상해져서... 제발 내 노파심에서 발생된 기우가 되기만을 바라는 한가지 걱정이거 이미 <원더우먼 1984>가 1980년대 냉전 시대소련을 상대로 싸우는 다이애나의 이야기를 ...\n",
      "\n",
      "<원더우먼 1984> 예고편을 보고 - 8(원래 올 해 11월이었다가 내년 6월로연기된 개봉이 갤 가돗 팬들에게 미친 영향)이미 2018년 12월에 모든 촬영을 마쳤던 <원더우먼 1984>는 올 해 11월 첫 주에 개봉할예정이었으나 비슷한...\n",
      "\n",
      "'THIS WAS A MUCH HARDER MOVIE TOSHOOT... I WAS MORE AMBITIOUSWITH IT(<원더우먼 1984>는 촬영하기가 훨씬 힘들었다... 나는 더 큰 야심을 가지고 있다.)'PATTY JENKINS(패티 젠킨스)EXCLUSIVETHE GOOD FIGHTWONDER WOMAN 1984Di...\n",
      "\n",
      "2018년 6월부터 촬영 시작되어 12월에 촬영 완료를알렸던 <원더우먼 1984>의 처음 개봉 예정일은2019년 12월 13일이었다.그러다가 그보다 1주 뒤 개봉 예정이던 <스타워즈:라이즈 오브 스카이워커>를 의식해 한 달 반 정도앞...\n",
      "\n",
      "갤 가돗 주연, 패티 젠킨스 감독의 2020년 최고 기대작 <원더우먼 1984>. 예정대로 6월초에 개봉하는 듯.개봉 전까지 코로나가 잠잠해질거란 예상을 하는 듯함.코로나가 어서 빨리 죽어 달라고 그저 요새 기도하는마음 뿐이다.<...\n",
      "\n",
      "동영상'블랙 위도우'·'분노의 질주9' 등 예정대로 개봉 '극장가 활력 예상'...\n",
      "\n",
      "나는 세계에서 제일 유명한 여자의 한국 변호사겸작전 참모총장. 아래의 글 내용을 이번 주까지 영작해서 이스라엘띠동갑 여동생한테 인스타그램 개인 메시지로 보낼예정. 똑똑한 여자니 오빠가 이런 거 알려주지 않아도 이미다 알고 있겠...\n",
      "\n",
      "<원더우먼 1984>가 흥행은 성공했으나 고매하신평론가의 입장에선 까고 싶은 부분들이 있단 식으로(당연히 그 잘난 척하는게 삶의 업인 분들께선 있을수밖에 없겠지) 말한 거였다면 그건 내가 충분히이해할 수 있겠는데 영화 채널 ...\n",
      "\n",
      "https://youtu.be/sfM7_JLk-84동영상Wonder Woman 1984 – Official TrailerA new era of wonder begins. #WW84 in theaters June 5. www.wonderwomanfilm.com https://www.instagram.com/wonderwomanfilm/ https://twit...youtu.be&...\n",
      "\n",
      "<원더우먼 1984> 월드 와이드 10억불 돌파 전략먼저 3년 전의 1편 흥행 성적을 다시 한 번 보자면한국에선 216만 관객으로 1,550만불 수입을 올렸다.다가올 6월 첫째주에 개봉될 <원더우먼 1984>는미국: 4억 4,256만불 (3,000...\n",
      "\n",
      "밑에 올린 갤 가돗 여신 올 해 <원더우먼 1984>월드 홍보 투어 때 사상 첫 한국 방문 가능성 예측에대한 최종 써머리1. 중국: 100퍼센트 확정(미국 외 최다 관객 예상국)2. 영국: 사실상 확정(유럽에서 최다 관객 동원국이자       ...\n",
      "\n",
      "원더우먼으로 전설이 된 여자 갤 가돗(GAL GADOT):출생에서 <원더우먼 1984>까지여신의 정확한 이름과 생일에 얽힌 이야기부터우리나라에선 갤 가돗으로 불리워지는 이 뇌쇄적인(조물주가 인형에 생기를 불어넣은 후 조각한 마네킹...\n",
      "\n",
      "판당고 서베이 결과 미국인들이 선정한 2020년개봉 예정작들중 가장 기대되는 영화 1위. <원더우먼 1984>.내년에 1년 토탈 전체 흥행 1위가 기대되는 이 시대최고 배우 갈 가돗의 인생 영화 <원더우먼 1984>.2위인 마블 <...\n",
      "\n",
      "<원더우먼 1984> 예고편을 보고 갤 가돗 팬들과 공유하는 11가지 이야기들1. 패티 젠킨스 감독의 속편 연출 결정 소식을     처음 접했을 때 내가 가졌던 생각과 지금의 느낌헐리웃에서 보기 드문 여성 감독인패티 젠킨스(1971년생...\n",
      "\n",
      "내년 6월 개봉될 <원더우먼 1984>의 흥행 예상2017년 6월 개봉되었던 <원더우먼> 1편은 월드와이드 8억 2천만불 수입을 올렸고 특히 본국인미국에서만 4억 1천만불을 넘기는 대박을 쳤는데미국내 수치만으론 역대 상당수의 마...\n",
      "\n",
      " [ENTERTAINMENT WEEKLY]<WONDER WOMAN 1984>: How a top-secretlove story and brand-new armor promise to make the sequel sing (February 11, 2020)https://ew.com/movies/2020/02/11/wonder-woman-1984-gal-gadot-cover/ 갈 가...\n",
      "\n",
      "2004년 <몬스터>로 샤를리즈 테론에게 아카데미여우주연상을 안겨 주었던 패티 젠킨스는 자신이연출하는 영화속에서 주연 여배우의 능력을 최대치로끌어내는데 있어서 탁월한 역량을 가진 감독이다.3년 전 <원더우먼(2017>에...\n",
      "\n",
      "<원더우먼 1984>의 촬영은 2018년 12월에 완료되었고 패티 젠킨스 감독은 영화가 너무 재미있어서 원래 예정했던 2019년 11월초에 개봉을 원했으나 좀 더 흥행 성수기인 2020년 6월초 개봉으로 연기를시킨 건 워너브라더스였다고 함...\n",
      "\n",
      "[갤 가돗 바로 알기] 한국에서만 오보되고 착각중인 갤 가돗 시오니스트 루머에 대한 진실글 요약본이에 대한 전체 설명글은 아래와 같으나 https://blog.naver.com/kongming1973/221178105493[갤 가돗 바로...\n",
      "\n",
      "북미 예매 사이트 판당고에서 조사한 2020년 가장기대되는 영화와 배우들 관련 4개 전 부문 1위에오른 <원더우먼 1984>.2020년 가장 기대되는 영화: <원더우먼 1984>2020년 가장 기대되는 여자 배우: 갈 가돗(<원더우먼 19...\n",
      "\n",
      "갤 가돗의 <원더우먼 1984> 예고편에 보여진 장면들의 영화속 등장 순서 예상해 보기<원더우먼 1984> 예고편에 보여진 장면들이 내년 6월 개봉될 영화속에서 등장 순서가 어떻게 될지 예상해 봤다.어디까지나 예상이므로 영화...\n",
      "\n",
      "나의 갤 가돗 팬 스토리 - 13[<저스티스리그> 이후 <원더우먼 1984>를목마르도록 기다린 무려 2년의 세월]  아래 글들로부터 이어짐https://blog.naver.com/kongming1973/221447669948나의 갤 가....\n",
      "\n",
      "<원더우먼 1984> 예고편 음악 (Wonder Woman 1984 - Music Only Trailer Ft. New Order's 'Blue Monday', Sebastian B?hm Remix)https://youtu.be/_R1eZJUjD8I동영상Wonder Woman 1984 - Music Only Trailer Ft. New Order's 'Blue ...\n",
      "\n",
      "2017년 이후 올 해의 존예상 수상자(?)들2017년부터 내가 제정해서 직접 선정하여 매 해마다한 명의 여인에게 수여(?)하는 이름하여 올 해의 존예(존나 예쁜 여인) 시상식. ㅋㅋㅋ대상: 현역 모든 여배우들 및 탤런트(국내,국외 모두)*.가...\n",
      "\n",
      "<원더우먼 1984> 예고편을 보고 - 3 (잭 스나이더의 흑역사 두 편 연출작은 아예 스토리 자체를 무시하자?) DC는 잭 스나이더가 연출했던 <배트맨 vs 슈퍼맨(2016)>과 <저스티스리그(2017)>는 흑역사로 간주하곤 아예 ...\n",
      "\n",
      "[ENTERTAINMENT WEEKLY]<WONDER WOMAN 1984>: How a top-secretlove story and brand-new armor promise to make the sequel sing (February 11, 2020)https://ew.com/movies/2020/02/11/wonder-woman-1984-gal-gadot-cover/ 갈 가...\n",
      "\n",
      "<원더우먼 1984>가 6월 5일 개봉 예정이고 아직시사회를 할 때가 전혀 아닌데 어느 DC를 싫어하는미친 XX가 <원더우먼 1984> 시사회 반응이 좋지않더라는 헛소문을 퍼뜨렸고 그걸 또 그대로 믿고선황당하게 한숨 쉬는 사람들...\n",
      "\n",
      "<캡틴 마블>이 <원더우먼>보다 높은 흥행 수익을 올렸음에도 사람들이 여성 히어로하면 원더우먼을 압도적으로 더 좋아하는 이유글의 제목만 봐도 \"그야 원더우먼으로 나오는갤 가돗이 캡틴 마블 브리 라슨 외모를 압도하기때...\n",
      "\n",
      "갤 가돗씨!!!이렇게 이쁘고 귀여워도 되는 겁니까?♡♡♡♡♡♡♡https://twitter.com/i/status/1201591941114150912동영상Wonder Woman on Twitter“Tweet us a photo of your Power Pose using #WW84 and #CCXP for a chance to be...\n",
      "\n",
      "https://www.facebook.com/wonderwomanfilm/videos/444485093157769/?sfnsn=mo&s=100013927415827&vh=e동영상Wonder Woman 1984 - in theaters June 5관련 동영상 1:12 Repost from Gal Gadot: Las...\n",
      "\n",
      "지금 이 글을 쓰고 있는 시간이 12월 20일 19시 10분이니 이제 영화 <원더우먼 1984>의한국 개봉 62시간 전.우려했던 외국 팬들의 스포일러는 아직 없습니다만...예고편 두 번 외에 공식 클립(Clip)이니 세계각국 홍보 영상이니 해...\n",
      "\n",
      "Oh, everyone knew the 2017 film was coming, but nobody expected the scale of its success. If had been budgeted as, and written about, like just another superhero movie, a nice-to-have while we got ready for the real busin...\n",
      "\n",
      "작년 하반기에 처음 알게 되어 유투버 영화 평론가중하나인 <라이너의 컬쳐쇼크>를 구독했었다. 처음엔 그 사람 말들이 재미있다 여겨지기도 했지만시간이 갈수록 \"이 사람은 역겨운 선민의식을 가지곤자기가 직접 영화를 만들거나 ...\n",
      "\n",
      "<원더우먼 1984> 예고편을 보고 - 7(처음으로 보이지 않는 원더우먼의 두 무기)<원더우먼 1984> 예고편을 통해 알 수 있는또 한가지 주목할 만한 점은 그 동안 원더우먼의등장 영화 세 편에서 공통적으로 나왔던 그녀의두 주...\n",
      "\n",
      "<원더우먼 1984> 예고편을 보고 - 6(개그의 남녀 상황 반전:사랑스런 다이애나와 스티브)<원더우먼(2017)> 1편의 개그 포인트는 데미스키라섬에 불시착했던 공군 대위 스티브 트레버를 따라인간 세상에 처음 발을 디딘 다이애...\n",
      "\n",
      "<원더우먼 1984> 예고편을 보고 - 5(패티 젠킨스 감독의 흥행을 위한 최대 승부수와 팬들이 꼭 알아야 할 주의 사항)패티 젠킨스 감독의 <원더우먼 1984> 최대 흥행전략, 이른 바 승부수는 모두가 궁금해 하는 스티브트레버가...\n",
      "\n"
     ]
    }
   ],
   "source": [
    "for i in range(1, 11):\n",
    "    reviewUrl = \"https://movie.naver.com/movie/bi/mi/review.nhn?code=163834&page=\"+\"%d\" % i\n",
    "    driver.get(reviewUrl)\n",
    "    time.sleep(3)\n",
    "    quesionTitle(driver)"
   ]
  },
  {
   "cell_type": "code",
   "execution_count": null,
   "metadata": {},
   "outputs": [],
   "source": []
  }
 ],
 "metadata": {
  "kernelspec": {
   "display_name": "Python 3",
   "language": "python",
   "name": "python3"
  },
  "language_info": {
   "codemirror_mode": {
    "name": "ipython",
    "version": 3
   },
   "file_extension": ".py",
   "mimetype": "text/x-python",
   "name": "python",
   "nbconvert_exporter": "python",
   "pygments_lexer": "ipython3",
   "version": "3.8.5"
  }
 },
 "nbformat": 4,
 "nbformat_minor": 4
}
