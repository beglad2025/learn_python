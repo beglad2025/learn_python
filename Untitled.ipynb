{
 "cells": [
  {
   "cell_type": "code",
   "execution_count": 1,
   "metadata": {},
   "outputs": [],
   "source": [
    "import re\n",
    "def keyWord(words, queries):\n",
    "    queryList = [x.replace(\"?\", \".\") for x in queries]\n",
    "    result = []\n",
    "    for q in queryList:\n",
    "        count = len([w for w in words if re.match(q, w) and len(q) == len(w)])\n",
    "        result.append(count)\n",
    "    print(result)"
   ]
  },
  {
   "cell_type": "code",
   "execution_count": 2,
   "metadata": {},
   "outputs": [],
   "source": [
    "from selenium import webdriver"
   ]
  },
  {
   "cell_type": "code",
   "execution_count": 3,
   "metadata": {},
   "outputs": [],
   "source": [
    "driver=webdriver.Chrome(\"c:/scrap/chromedriver.exe\")"
   ]
  },
  {
   "cell_type": "code",
   "execution_count": 4,
   "metadata": {},
   "outputs": [],
   "source": [
    "import time\n",
    "driver.get(\"https://www.melon.com/song/detail.htm?songId=32872978\")\n",
    "time.sleep(2)"
   ]
  },
  {
   "cell_type": "code",
   "execution_count": 5,
   "metadata": {},
   "outputs": [],
   "source": [
    "from bs4 import BeautifulSoup"
   ]
  },
  {
   "cell_type": "code",
   "execution_count": 8,
   "metadata": {},
   "outputs": [],
   "source": [
    "dynamite = driver.page_source"
   ]
  },
  {
   "cell_type": "code",
   "execution_count": 9,
   "metadata": {},
   "outputs": [],
   "source": [
    "soup = BeautifulSoup(dynamite, \"html.parser\")"
   ]
  },
  {
   "cell_type": "code",
   "execution_count": 27,
   "metadata": {},
   "outputs": [
    {
     "name": "stdout",
     "output_type": "stream",
     "text": [
      "Cos ah ahI’m in the stars tonightSo watch me bring the fireand set the night alightShoes on get up in the mornCup of milk let’s rock and rollKing Kong kick the drumrolling on like a rolling stoneSing song when I’m walking homeJump up to the top LeBronDing dong call me on my phoneIce tea and a game of ping pongThis is getting heavyCan you hear the bass boomI’m readyLife is sweet as honeyYeah this beat cha chinglike moneyDisco overload I’m intothat I’m good to goI'm diamond you know I glow upHey so let’s goCos ah ahI’m in the stars tonightSo watch me bring the fireand set the night alightShining through the citywith a little funk and soulSo I’mma light it uplike dynamite woahBring a friend join the crowdWhoever wanna come alongWord up talk the talkjust move like we off the wallDay or night the sky’s alightSo we dance to the break of dawnLadies and gentlemenI got the medicineso you should keep yaeyes on the ball huhThis is getting heavyCan you hear the bass boomI’m readyLife is sweet as honeyYeah this beat cha chinglike moneyDisco overloadI’m into that I’m good to goI'm diamond you know I glow upLet’s goCos ah ahI’m in the stars tonightSo watch me bring the fireand set the night alightShining through the citywith a little funk and soulSo I’mma light it uplike dynamite woahDynnnnnanana life is dynamiteDynnnnnanana life is dynamiteShining through the citywith a little funk and soulSo I’mma light it uplike dynamite woahDynnnnnanana ehDynnnnnanana ehDynnnnnanana ehLight it up like dynamiteDynnnnnanana ehDynnnnnanana ehDynnnnnanana ehLight it up like dynamiteCos ah ahI’m in the stars tonightSo watch me bring the fireand set the night alightShining through the citywith a little funk and soulSo I’mma light it uplike dynamiteCos ah ahI’m in the stars tonightSo watch me bring the fireand set the night alightShining through the citywith a little funk and soulSo I’mma light it uplike dynamite woahDynnnnnanana life is dynamiteDynnnnnanana life is dynamiteShining through the citywith a little funk and soulSo I’mma light it uplike dynamite woah\n"
     ]
    }
   ],
   "source": [
    "lyrics = soup.select(\"#d_video_summary\")[0].text.strip()\n",
    "print(lyrics)"
   ]
  },
  {
   "cell_type": "code",
   "execution_count": 40,
   "metadata": {},
   "outputs": [
    {
     "name": "stdout",
     "output_type": "stream",
     "text": [
      "2063\n",
      "Cos ah ahI’m in the stars tonightSo watch me bring the fireand set the night alightShoes on get up in the mornCup of milk let’s rock and rollKing Kong kick the drumrolling on like a rolling stoneSing song when I’m walking homeJump up to the top LeBronDing dong call me on my phoneIce tea and a game of ping pongThis is getting heavyCan you hear the bass boomI’m readyLife is sweet as honeyYeah this beat cha chinglike moneyDisco overload I’m intothat I’m good to goI'm diamond you know I glow upHey so let’s goCos ah ahI’m in the stars tonightSo watch me bring the fireand set the night alightShining through the citywith a little funk and soulSo I’mma light it uplike dynamite woahBring a friend join the crowdWhoever wanna come alongWord up talk the talkjust move like we off the wallDay or night the sky’s alightSo we dance to the break of dawnLadies and gentlemenI got the medicineso you should keep yaeyes on the ball huhThis is getting heavyCan you hear the bass boomI’m readyLife is sweet as honeyYeah this beat cha chinglike moneyDisco overloadI’m into that I’m good to goI'm diamond you know I glow upLet’s goCos ah ahI’m in the stars tonightSo watch me bring the fireand set the night alightShining through the citywith a little funk and soulSo I’mma light it uplike dynamite woahDynnnnnanana life is dynamiteDynnnnnanana life is dynamiteShining through the citywith a little funk and soulSo I’mma light it uplike dynamite woahDynnnnnanana ehDynnnnnanana ehDynnnnnanana ehLight it up like dynamiteDynnnnnanana ehDynnnnnanana ehDynnnnnanana ehLight it up like dynamiteCos ah ahI’m in the stars tonightSo watch me bring the fireand set the night alightShining through the citywith a little funk and soulSo I’mma light it uplike dynamiteCos ah ahI’m in the stars tonightSo watch me bring the fireand set the night alightShining through the citywith a little funk and soulSo I’mma light it uplike dynamite woahDynnnnnanana life is dynamiteDynnnnnanana life is dynamiteShining through the citywith a little funk and soulSo I’mma light it uplike dynamite woah\n"
     ]
    }
   ],
   "source": [
    "import re\n",
    "print(len(lyrics))\n",
    "for s in range(len(lyrics)):\n",
    "    if re.search(\"[A-Z]\", lyrics[s]):\n",
    "        lyrics.replace(lyrics[s], \" \"+lyrics[s])\n",
    "print(lyrics)\n"
   ]
  },
  {
   "cell_type": "code",
   "execution_count": 43,
   "metadata": {},
   "outputs": [
    {
     "ename": "TypeError",
     "evalue": "'str' object does not support item assignment",
     "output_type": "error",
     "traceback": [
      "\u001b[1;31m---------------------------------------------------------------------------\u001b[0m",
      "\u001b[1;31mTypeError\u001b[0m                                 Traceback (most recent call last)",
      "\u001b[1;32m<ipython-input-43-9368c297e567>\u001b[0m in \u001b[0;36m<module>\u001b[1;34m\u001b[0m\n\u001b[0;32m      1\u001b[0m \u001b[0mx\u001b[0m \u001b[1;33m=\u001b[0m \u001b[1;34m\"hihello\"\u001b[0m\u001b[1;33m\u001b[0m\u001b[1;33m\u001b[0m\u001b[0m\n\u001b[1;32m----> 2\u001b[1;33m \u001b[0mx\u001b[0m\u001b[1;33m[\u001b[0m\u001b[1;36m2\u001b[0m\u001b[1;33m]\u001b[0m \u001b[1;33m=\u001b[0m \u001b[1;34m\" \"\u001b[0m\u001b[1;33m+\u001b[0m\u001b[0mx\u001b[0m\u001b[1;33m[\u001b[0m\u001b[1;36m2\u001b[0m\u001b[1;33m]\u001b[0m\u001b[1;33m\u001b[0m\u001b[1;33m\u001b[0m\u001b[0m\n\u001b[0m\u001b[0;32m      3\u001b[0m \u001b[0mprint\u001b[0m\u001b[1;33m(\u001b[0m\u001b[0mx\u001b[0m\u001b[1;33m)\u001b[0m\u001b[1;33m\u001b[0m\u001b[1;33m\u001b[0m\u001b[0m\n",
      "\u001b[1;31mTypeError\u001b[0m: 'str' object does not support item assignment"
     ]
    }
   ],
   "source": [
    "x = \"hihello\"\n",
    "x[2] = \" \"+x[2]\n",
    "print(x)"
   ]
  },
  {
   "cell_type": "code",
   "execution_count": null,
   "metadata": {},
   "outputs": [],
   "source": []
  }
 ],
 "metadata": {
  "kernelspec": {
   "display_name": "Python 3",
   "language": "python",
   "name": "python3"
  },
  "language_info": {
   "codemirror_mode": {
    "name": "ipython",
    "version": 3
   },
   "file_extension": ".py",
   "mimetype": "text/x-python",
   "name": "python",
   "nbconvert_exporter": "python",
   "pygments_lexer": "ipython3",
   "version": "3.8.5"
  }
 },
 "nbformat": 4,
 "nbformat_minor": 4
}
